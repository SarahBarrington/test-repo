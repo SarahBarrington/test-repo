{
 "cells": [
  {
   "cell_type": "markdown",
   "metadata": {},
   "source": [
    "# Python: Getting started with Regression and Decision Trees in Python"
   ]
  },
  {
   "cell_type": "code",
   "execution_count": null,
   "metadata": {
    "collapsed": true
   },
   "outputs": [],
   "source": [
    "# See 'Talk_Engineering_Society' notebook for the actual code used during the session\n",
    "# Import packages\n",
    "\n",
    "import pandas \n",
    "import matplotlib\n",
    "import sklearn\n",
    "import numpy #the core that implements data structures"
   ]
  },
  {
   "cell_type": "raw",
   "metadata": {},
   "source": [
    "Discussion on basic line fitting. Decision trees are a sub-set of ML, and regression spans both.\n",
    "\n",
    "Regression analysis: describe the link between phenomena to make predictions or decisions.\n",
    "\n",
    "Decision trees = a method to apply regression. Cascade of rules are applied to make a decision. Sklearn builds rules for us."
   ]
  },
  {
   "cell_type": "raw",
   "metadata": {},
   "source": [
    "# Bike sharing company example\n",
    "\n",
    "Start off at node intree. Then each node splits into two childs. Get down to the 'leaves'. Feature = a split of decisions down the tree. \n",
    "Feature space. \n",
    "\n",
    "Cross validation. \n",
    "Final score = (score 1 + score 2 + score 3)/3\n"
   ]
  },
  {
   "cell_type": "code",
   "execution_count": null,
   "metadata": {
    "collapsed": true
   },
   "outputs": [],
   "source": []
  }
 ],
 "metadata": {
  "anaconda-cloud": {},
  "kernelspec": {
   "display_name": "Python [Root]",
   "language": "python",
   "name": "Python [Root]"
  },
  "language_info": {
   "codemirror_mode": {
    "name": "ipython",
    "version": 3
   },
   "file_extension": ".py",
   "mimetype": "text/x-python",
   "name": "python",
   "nbconvert_exporter": "python",
   "pygments_lexer": "ipython3",
   "version": "3.5.2"
  }
 },
 "nbformat": 4,
 "nbformat_minor": 0
}
